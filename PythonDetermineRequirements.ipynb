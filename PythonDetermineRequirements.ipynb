{
 "cells": [
  {
   "cell_type": "code",
   "execution_count": null,
   "id": "9dce015f",
   "metadata": {},
   "outputs": [],
   "source": [
    "# Installs Dependencies\n",
    "#!pip3 install nltk"
   ]
  },
  {
   "cell_type": "code",
   "execution_count": null,
   "id": "06d3e95a",
   "metadata": {},
   "outputs": [],
   "source": [
    "# Imports Dependencies\n",
    "#import nltk\n",
    "import copy\n",
    "import numpy as np\n",
    "import os\n",
    "import pandas as pd\n",
    "import sys\n",
    "\n",
    "from nltk.corpus import wordnet as wn\n",
    "\n",
    "from sys import getrecursionlimit"
   ]
  },
  {
   "cell_type": "code",
   "execution_count": null,
   "id": "9f57b4f5",
   "metadata": {},
   "outputs": [],
   "source": [
    "# Displays Installed PIP Packages\n",
    "#!pip3 list"
   ]
  },
  {
   "cell_type": "code",
   "execution_count": null,
   "id": "aceeb8c7",
   "metadata": {},
   "outputs": [],
   "source": [
    "# Downloads Desired NLTK Resources\n",
    "#nltk.download()"
   ]
  },
  {
   "cell_type": "code",
   "execution_count": null,
   "id": "425adb9f",
   "metadata": {},
   "outputs": [],
   "source": [
    "# Determines & Sets Recusion Limits\n",
    "print(getrecursionlimit())\n",
    "sys.setrecursionlimit(4000)\n",
    "print(getrecursionlimit())"
   ]
  },
  {
   "cell_type": "code",
   "execution_count": null,
   "id": "ec5a9ba1",
   "metadata": {},
   "outputs": [],
   "source": [
    "def determine_base_word_synonyms(base_word):\n",
    "    base_word_synonyms = set()\n",
    "    \n",
    "    for synset in wn.synsets(base_word):\n",
    "        for lemma in synset.lemmas():\n",
    "            base_word_synonyms.add(lemma.name().lower())\n",
    "            \n",
    "    #print(f'Word: {base_word} - Synonyms: {base_word_synonyms}')\n",
    "\n",
    "    return base_word_synonyms"
   ]
  },
  {
   "cell_type": "code",
   "execution_count": null,
   "id": "cca1c524",
   "metadata": {},
   "outputs": [],
   "source": [
    "def recursively_determine_synonyms(base_word, base_word_synonyms):\n",
    "    recursive_synonyms = set()\n",
    "    recursive_synonyms.update(base_word_synonyms)\n",
    "    \n",
    "    for index in range(len(base_word_synonyms)):\n",
    "        if sorted(base_word_synonyms)[index] != base_word:\n",
    "            recursive_synonyms.update(determine_base_word_synonyms(sorted(base_word_synonyms)[index]))\n",
    "\n",
    "    return recursive_synonyms"
   ]
  },
  {
   "cell_type": "code",
   "execution_count": null,
   "id": "6ce58532",
   "metadata": {},
   "outputs": [],
   "source": [
    "def determine_all_synonyms(base_word):\n",
    "    starting_synonyms = determine_base_word_synonyms(base_word)\n",
    "    ending_synonyms = recursively_determine_synonyms(base_word, starting_synonyms)\n",
    "    return ending_synonyms"
   ]
  },
  {
   "cell_type": "code",
   "execution_count": null,
   "id": "211c7d3b",
   "metadata": {},
   "outputs": [],
   "source": [
    "def generate_requirements_dictionary(requirements_lists):\n",
    "    requirements_list = []\n",
    "    \n",
    "    for requirements_sublist in requirements_lists:\n",
    "        for requirement_indicator in requirements_sublist:\n",
    "            requirements_list.append(requirement_indicator)\n",
    "    \n",
    "    dictionary_string = \"{'Requirements_Text_Description': [], 'Include': []\"\n",
    "    \n",
    "    for index in range(len(requirements_list)):     \n",
    "        dictionary_string += \", '{}': []\".format(requirements_list[index])\n",
    "        \n",
    "        if index == max(range(len(requirements_list))):\n",
    "            dictionary_string += '}'\n",
    "    \n",
    "    requirements_dictionary = eval(dictionary_string)\n",
    "    \n",
    "    return requirements_dictionary"
   ]
  },
  {
   "cell_type": "code",
   "execution_count": null,
   "id": "d7e7b1b4",
   "metadata": {},
   "outputs": [],
   "source": [
    "def determine_inclusive_terms(inclusion_exclusion_terms_lists):\n",
    "    inclusion_terms_synonyms = set()\n",
    "    inclusion_exclusion_recursive_terms_synonyms = set()\n",
    "    \n",
    "    for term_list in inclusion_exclusion_terms_lists:\n",
    "        if inclusion_exclusion_terms_lists.index(term_list) == 0:\n",
    "            inclusion_term_set = set(term_list)\n",
    "            for inclusion_term in list(inclusion_term_set):\n",
    "                inclusion_terms_synonyms.update(determine_base_word_synonyms(inclusion_term))\n",
    "                inclusion_exclusion_recursive_terms_synonyms.update(determine_all_synonyms(inclusion_term))\n",
    "        else:\n",
    "            exclusion_term_set = set(term_list)\n",
    "            for exclusion_term in list(exclusion_term_set):\n",
    "                inclusion_exclusion_recursive_terms_synonyms.update(determine_all_synonyms(exclusion_term))\n",
    "                \n",
    "    return inclusion_terms_synonyms, inclusion_exclusion_recursive_terms_synonyms"
   ]
  },
  {
   "cell_type": "code",
   "execution_count": null,
   "id": "02fead13",
   "metadata": {},
   "outputs": [],
   "source": [
    "def generate_requirement_synonyms_dictionary(requirements_list):\n",
    "    dictionary_string = \"{\"\n",
    "    \n",
    "    for index in range(len(requirements_list)):     \n",
    "        dictionary_string += \"'{}': {}\".format(requirements_list[index], \n",
    "                                               list(determine_base_word_synonyms(requirements_list[index])))\n",
    "        \n",
    "        if index != max(range(len(requirements_list))):\n",
    "            dictionary_string += ', '\n",
    "        else:\n",
    "            dictionary_string += '}'\n",
    "    \n",
    "    requirement_terms_synonyms_dictionary = eval(dictionary_string)\n",
    "    \n",
    "    return requirement_terms_synonyms_dictionary"
   ]
  },
  {
   "cell_type": "code",
   "execution_count": null,
   "id": "6f5f8ca2",
   "metadata": {},
   "outputs": [],
   "source": [
    "def generate_requirement_score_dictionary(req_dict):\n",
    "    req_scrs_dict = copy.deepcopy(req_dict)\n",
    "    del req_scrs_dict['Requirements_Text_Description']\n",
    "    del req_scrs_dict['Include']\n",
    "    return req_scrs_dict"
   ]
  },
  {
   "cell_type": "code",
   "execution_count": null,
   "id": "77f7f8d0",
   "metadata": {},
   "outputs": [],
   "source": [
    "def score_inclusivity(term, inclusive_terms):\n",
    "    \n",
    "    if term in inclusive_terms:\n",
    "        return 1\n",
    "    else:\n",
    "        return 0"
   ]
  },
  {
   "cell_type": "code",
   "execution_count": null,
   "id": "928d0da4",
   "metadata": {},
   "outputs": [],
   "source": [
    "def score_requirement():\n",
    "    "
   ]
  },
  {
   "cell_type": "code",
   "execution_count": null,
   "id": "8ee10270",
   "metadata": {},
   "outputs": [],
   "source": [
    "def append_attribute(attributes, depth):\n",
    "    result = []\n",
    "    \n",
    "    if(depth == len(attributes) - 1):\n",
    "        for i in attributes[depth]:\n",
    "            result.append(i)\n",
    "\n",
    "    else:\n",
    "        sub = append_attribute(attributes, depth + 1)\n",
    "        for i in attributes[depth]:\n",
    "            for j in sub:\n",
    "                result.append(i + ' ' + j)\n",
    "\n",
    "    return result"
   ]
  },
  {
   "cell_type": "code",
   "execution_count": null,
   "id": "34948e0f",
   "metadata": {},
   "outputs": [],
   "source": [
    "def append_attribute2(attributes, synonyms, depth, scr_dict):\n",
    "    result = []\n",
    "    \n",
    "    count = 0\n",
    "    \n",
    "    if(depth == len(attributes) - 1):\n",
    "        #print(attributes[depth])\n",
    "        for index in range(len(attributes[depth])):\n",
    "            for synonym in synonyms[depth].get(attributes[depth][index]):\n",
    "                \n",
    "                #if count < 1:\n",
    "                #    print(synonyms[depth])\n",
    "                #    print(attributes[depth][index])\n",
    "                #    print(attributes[depth])\n",
    "                #    count += 1\n",
    "                \n",
    "                result.append(synonym)\n",
    "                \n",
    "                #for attribute in attributes[depth]:\n",
    "                #    if attribute == attributes[depth][index]:\n",
    "                #        scr_dict[attribute].append(1)\n",
    "                #    else:\n",
    "                #        scr_dict[attribute].append(0)\n",
    "                \n",
    "    else:\n",
    "        sub = append_attribute2(attributes, synonyms, depth + 1, scr_dict)\n",
    "        for index in range(len(attributes[depth])):\n",
    "            for index2 in range(len(sub)):\n",
    "                #result.append(attributes[depth][index] + ' ' + sub[index2])\n",
    "                for synonym in synonyms[depth].get(attributes[depth][index]):\n",
    "                    result.append(synonym + ' and ' + sub[index2])\n",
    "                    \n",
    "                    for attribute in attributes[depth]:\n",
    "                        if attribute == attributes[depth][index]:\n",
    "                            scr_dict[attribute].append(1)\n",
    "                        else:\n",
    "                            scr_dict[attribute].append(0)\n",
    "                \n",
    "    return result\n",
    "\n"
   ]
  },
  {
   "cell_type": "code",
   "execution_count": null,
   "id": "8e2b3685",
   "metadata": {},
   "outputs": [],
   "source": [
    "def append_attribute3(attributes, synonyms, depth):\n",
    "    result = []\n",
    "    \n",
    "    count = 0\n",
    "    \n",
    "    if(depth == len(attributes) - 1):\n",
    "        #print(attributes[depth])\n",
    "        \n",
    "        for index in range(len(attributes[depth])):\n",
    "            attribute = attributes[depth][index]\n",
    "            for synonym in synonyms[depth].get(attribute):\n",
    "                \n",
    "                zeros = [0] * len(attributes[depth])\n",
    "                zeros[index] = 1\n",
    "                \n",
    "                result.append((synonym, zeros))\n",
    "    else:\n",
    "        sub = append_attribute3(attributes, synonyms, depth + 1)\n",
    "        for index in range(len(attributes[depth])):\n",
    "            for index2 in range(len(sub)):\n",
    "                for synonym in synonyms[depth].get(attributes[depth][index]):\n",
    "                    \n",
    "                    zeros = [0] * len(attributes[depth])\n",
    "                    zeros[index] = 1\n",
    "                \n",
    "                    result.append((synonym + ' and ' + sub[index2][0], zeros + sub[index2][1]))\n",
    "                \n",
    "    return result\n",
    "\n",
    "\n"
   ]
  },
  {
   "cell_type": "code",
   "execution_count": null,
   "id": "6982ef30",
   "metadata": {},
   "outputs": [],
   "source": [
    "def generate_requirement_text_combinations(inclusivity_terms, attributes):\n",
    "    requirement_text_combinations = []\n",
    "    \n",
    "    for i in inclusivity_terms:\n",
    "        result = append_attribute(attributes, 0)\n",
    "        \n",
    "        for j in result:\n",
    "            requirement_text_combinations.append(i + ' ' + j)\n",
    "            \n",
    "    return requirement_text_combinations"
   ]
  },
  {
   "cell_type": "code",
   "execution_count": null,
   "id": "baf2cccb",
   "metadata": {},
   "outputs": [],
   "source": [
    "def generate_requirement_text_combinations2(inclusive_terms, \n",
    "                                            inclusivity_terms, \n",
    "                                            attributes, \n",
    "                                            synonyms, \n",
    "                                            scr_dict):\n",
    "    \n",
    "    requirement_text_combinations = []\n",
    "    inclusion_scores = []\n",
    "    \n",
    "    for i in inclusivity_terms:\n",
    "        result = append_attribute2(attributes, synonyms, 0, scr_dict)\n",
    "        \n",
    "        for j in result:\n",
    "            requirement_text_combinations.append(i + ' ' + j)\n",
    "            inclusion_scores.append(score_inclusivity(i, inclusive_terms))\n",
    "            \n",
    "    return requirement_text_combinations, inclusion_scores"
   ]
  },
  {
   "cell_type": "code",
   "execution_count": null,
   "id": "d727c543",
   "metadata": {},
   "outputs": [],
   "source": [
    "def generate_requirement_text_combinations3(inclusive_terms, \n",
    "                                            inclusivity_terms, \n",
    "                                            attributes, \n",
    "                                            synonyms):\n",
    "    aslist = []\n",
    "    for i in inclusivity_terms:\n",
    "        result = append_attribute3(attributes, synonyms, 0)\n",
    "        \n",
    "        for j in result:\n",
    "            requirement = i + \" \" + j[0]\n",
    "            scores = j[1]\n",
    "            scores.append(score_inclusivity(i, inclusive_terms))\n",
    "            aslist.append([requirement] + scores)\n",
    "            #aslist.append([requirement] + j[1])\n",
    "            \n",
    "    return aslist"
   ]
  },
  {
   "cell_type": "code",
   "execution_count": null,
   "id": "dd4529d6",
   "metadata": {},
   "outputs": [],
   "source": [
    "def generate_synthetic_requirements_dataset(texts, \n",
    "                                            inclusion_scores, \n",
    "                                            scr_dict,\n",
    "                                            dictionary):\n",
    "    dataframe = pd.DataFrame.from_dict(dictionary)\n",
    "    print(dataframe)\n",
    "    print(len(texts))\n",
    "    print(len(inclusion_scores))\n",
    "    dataframe['Requirements_Text_Description'] = np.array(texts)\n",
    "    dataframe['Include'] = np.array(inclusion_scores)\n",
    "    \n",
    "    for i in range(3):\n",
    "        key = list(scr_dict)[i]\n",
    "        print(len(scr_dict[key]))\n",
    "        dataframe[key] = np.array(scr_dict[key])\n",
    "    \n",
    "    #for key in scr_dict:\n",
    "    #    dataframe[key] = np.array(scr_dict[key])\n",
    "    \n",
    "    return dataframe"
   ]
  },
  {
   "cell_type": "code",
   "execution_count": null,
   "id": "e81d0e2a",
   "metadata": {},
   "outputs": [],
   "source": [
    "def generate_synthetic_requirements_dataset2(texts_scores_list, requirements):\n",
    "    \n",
    "    requirements_list = ['description']\n",
    "    for sublist in requirements:\n",
    "        for requirement in sublist:\n",
    "            requirements_list.append(requirement)\n",
    "    requirements_list.append('inclusion')\n",
    "    \n",
    "    dataframe = pd.DataFrame(texts_scores_list, \n",
    "                             columns = requirements_list)\n",
    "    return dataframe"
   ]
  },
  {
   "cell_type": "code",
   "execution_count": null,
   "id": "d1ac5363",
   "metadata": {},
   "outputs": [],
   "source": [
    "def main():\n",
    "    req_lst = [['red', 'green', 'blue'], ['triangle', 'square']]\n",
    "    incl_trm_lst = [['include'], ['exclude']]\n",
    "    \n",
    "    req_dict = generate_requirements_dictionary(req_lst)\n",
    "    req_scrs_dict = generate_requirement_score_dictionary(req_dict)\n",
    "    \n",
    "    incl_trms, nincl_trms = determine_inclusive_terms(incl_trm_lst)\n",
    "    \n",
    "    syns = copy.deepcopy(req_lst)\n",
    "    \n",
    "    for index in range(len(syns)):\n",
    "        syns[index] = (generate_requirement_synonyms_dictionary(syns[index]))\n",
    "        \n",
    "    req_txts, incls_scrs = generate_requirement_text_combinations2(incl_trms, \n",
    "                                                                   nincl_trms, \n",
    "                                                                   req_lst, \n",
    "                                                                   syns, \n",
    "                                                                   req_scrs_dict)\n",
    "    \n",
    "    req_df = generate_synthetic_requirements_dataset(req_txts, \n",
    "                                                     incls_scrs, \n",
    "                                                     req_scrs_dict,\n",
    "                                                     req_dict)\n",
    "    \n",
    "    data_file_path = '../../Data/'\n",
    "    req_df.to_csv(os.path.join(data_file_path, 'synthetic_requirements_data.csv'))\n",
    "    \n",
    "    #req_df.describe()\n",
    "    #req_df.head()\n",
    "    #req_df.tail()\n",
    "    display(req_df)"
   ]
  },
  {
   "cell_type": "code",
   "execution_count": null,
   "id": "59aef0ab",
   "metadata": {},
   "outputs": [],
   "source": [
    "main()"
   ]
  },
  {
   "cell_type": "code",
   "execution_count": null,
   "id": "86cddf37",
   "metadata": {},
   "outputs": [],
   "source": [
    "word_to_find_synonyms_for = 'green'"
   ]
  },
  {
   "cell_type": "code",
   "execution_count": null,
   "id": "20a9fc20",
   "metadata": {},
   "outputs": [],
   "source": [
    "base_synonyms = determine_base_word_synonyms(word_to_find_synonyms_for)\n",
    "recursive_synonyms = recursively_determine_synonyms(word_to_find_synonyms_for, base_synonyms)\n",
    "all_synonyms = determine_all_synonyms(word_to_find_synonyms_for)"
   ]
  },
  {
   "cell_type": "code",
   "execution_count": null,
   "id": "3a0c4581",
   "metadata": {},
   "outputs": [],
   "source": [
    "print(base_synonyms)"
   ]
  },
  {
   "cell_type": "code",
   "execution_count": null,
   "id": "f71d581d",
   "metadata": {},
   "outputs": [],
   "source": [
    "print(recursive_synonyms)"
   ]
  },
  {
   "cell_type": "code",
   "execution_count": null,
   "id": "8886409c",
   "metadata": {},
   "outputs": [],
   "source": [
    "print(all_synonyms)"
   ]
  },
  {
   "cell_type": "code",
   "execution_count": null,
   "id": "e8bc2057",
   "metadata": {},
   "outputs": [],
   "source": [
    "lists_of_requirements_for_dataframe_columns = [['red', 'green', 'blue'], ['triangle', 'square']]"
   ]
  },
  {
   "cell_type": "code",
   "execution_count": null,
   "id": "41b927a3",
   "metadata": {},
   "outputs": [],
   "source": [
    "print(lists_of_requirements_for_dataframe_columns)"
   ]
  },
  {
   "cell_type": "code",
   "execution_count": null,
   "id": "430e47c6",
   "metadata": {},
   "outputs": [],
   "source": [
    "print(len(lists_of_requirements_for_dataframe_columns))"
   ]
  },
  {
   "cell_type": "code",
   "execution_count": null,
   "id": "8b92addd",
   "metadata": {},
   "outputs": [],
   "source": [
    "requirements_dictionary = generate_requirements_dictionary(lists_of_requirements_for_dataframe_columns)"
   ]
  },
  {
   "cell_type": "code",
   "execution_count": null,
   "id": "c9156833",
   "metadata": {
    "scrolled": true
   },
   "outputs": [],
   "source": [
    "print(requirements_dictionary)"
   ]
  },
  {
   "cell_type": "code",
   "execution_count": null,
   "id": "2d11c619",
   "metadata": {},
   "outputs": [],
   "source": [
    "req_scrs_dict = generate_requirement_score_dictionary(requirements_dictionary)"
   ]
  },
  {
   "cell_type": "code",
   "execution_count": null,
   "id": "307e86e7",
   "metadata": {},
   "outputs": [],
   "source": [
    "print(req_scrs_dict)"
   ]
  },
  {
   "cell_type": "code",
   "execution_count": null,
   "id": "3dc7d63f",
   "metadata": {},
   "outputs": [],
   "source": [
    "print(req_scrs_dict.keys())"
   ]
  },
  {
   "cell_type": "code",
   "execution_count": null,
   "id": "24085bea",
   "metadata": {},
   "outputs": [],
   "source": [
    "inclusion_exclusion_terms_lists = [['include'], ['exclude']]"
   ]
  },
  {
   "cell_type": "code",
   "execution_count": null,
   "id": "87f9ba4e",
   "metadata": {},
   "outputs": [],
   "source": [
    "terms_of_inclusion, nonviable_terms_of_inclusion_exclusion = (\n",
    "    determine_inclusive_terms(inclusion_exclusion_terms_lists))"
   ]
  },
  {
   "cell_type": "code",
   "execution_count": null,
   "id": "5fcd4f18",
   "metadata": {},
   "outputs": [],
   "source": [
    "print(terms_of_inclusion)"
   ]
  },
  {
   "cell_type": "code",
   "execution_count": null,
   "id": "7da7bd0c",
   "metadata": {},
   "outputs": [],
   "source": [
    "print(nonviable_terms_of_inclusion_exclusion)"
   ]
  },
  {
   "cell_type": "code",
   "execution_count": null,
   "id": "cdb5d850",
   "metadata": {},
   "outputs": [],
   "source": [
    "synonyms = lists_of_requirements_for_dataframe_columns.copy()"
   ]
  },
  {
   "cell_type": "code",
   "execution_count": null,
   "id": "3c0cd3ff",
   "metadata": {},
   "outputs": [],
   "source": [
    "print(synonyms)"
   ]
  },
  {
   "cell_type": "code",
   "execution_count": null,
   "id": "171e4c3a",
   "metadata": {},
   "outputs": [],
   "source": [
    "for index in range(len(synonyms)):\n",
    "    synonyms[index] = (generate_requirement_synonyms_dictionary(synonyms[index]))"
   ]
  },
  {
   "cell_type": "code",
   "execution_count": null,
   "id": "8d33e166",
   "metadata": {},
   "outputs": [],
   "source": [
    "print(synonyms)"
   ]
  },
  {
   "cell_type": "code",
   "execution_count": null,
   "id": "ede5a0c9",
   "metadata": {},
   "outputs": [],
   "source": [
    "list(synonyms[0].keys())"
   ]
  },
  {
   "cell_type": "code",
   "execution_count": null,
   "id": "67fc1d7b",
   "metadata": {},
   "outputs": [],
   "source": [
    "print(lists_of_requirements_for_dataframe_columns)"
   ]
  },
  {
   "cell_type": "code",
   "execution_count": null,
   "id": "1a5887e1",
   "metadata": {},
   "outputs": [],
   "source": [
    "result = append_attribute(lists_of_requirements_for_dataframe_columns, 0)\n",
    "#result = append_attribute(requirement_terms_synonyms_dictionaries, 0)"
   ]
  },
  {
   "cell_type": "code",
   "execution_count": null,
   "id": "ca2a21d2",
   "metadata": {},
   "outputs": [],
   "source": [
    "print(result)"
   ]
  },
  {
   "cell_type": "code",
   "execution_count": null,
   "id": "6dcc3c1a",
   "metadata": {},
   "outputs": [],
   "source": [
    "result2 = append_attribute2(lists_of_requirements_for_dataframe_columns, \n",
    "                            synonyms, \n",
    "                            0, \n",
    "                            req_scrs_dict)"
   ]
  },
  {
   "cell_type": "code",
   "execution_count": null,
   "id": "5da9520e",
   "metadata": {},
   "outputs": [],
   "source": [
    "result3 = append_attribute3(lists_of_requirements_for_dataframe_columns, \n",
    "                            synonyms, \n",
    "                            0)"
   ]
  },
  {
   "cell_type": "code",
   "execution_count": null,
   "id": "8905aa13",
   "metadata": {},
   "outputs": [],
   "source": [
    "print(req_scrs_dict)"
   ]
  },
  {
   "cell_type": "code",
   "execution_count": null,
   "id": "d6397e18",
   "metadata": {},
   "outputs": [],
   "source": [
    "print(len(result2))\n",
    "print(len(req_scrs_dict['red']))\n",
    "print(len(req_scrs_dict['triangle']))"
   ]
  },
  {
   "cell_type": "code",
   "execution_count": null,
   "id": "38ff7b9f",
   "metadata": {},
   "outputs": [],
   "source": [
    "print(len(nonviable_terms_of_inclusion_exclusion))"
   ]
  },
  {
   "cell_type": "code",
   "execution_count": null,
   "id": "850ab135",
   "metadata": {},
   "outputs": [],
   "source": [
    "print(3822 * 122)"
   ]
  },
  {
   "cell_type": "code",
   "execution_count": null,
   "id": "45c34dae",
   "metadata": {},
   "outputs": [],
   "source": []
  },
  {
   "cell_type": "code",
   "execution_count": null,
   "id": "c6a8b11c",
   "metadata": {},
   "outputs": [],
   "source": [
    "requirement_texts = generate_requirement_text_combinations(nonviable_terms_of_inclusion_exclusion, \n",
    "                                                           lists_of_requirements_for_dataframe_columns)"
   ]
  },
  {
   "cell_type": "code",
   "execution_count": null,
   "id": "9dcf9118",
   "metadata": {},
   "outputs": [],
   "source": [
    "requirement_texts2, inclusion_scores = generate_requirement_text_combinations2(\n",
    "    terms_of_inclusion, \n",
    "    nonviable_terms_of_inclusion_exclusion, \n",
    "    lists_of_requirements_for_dataframe_columns, \n",
    "    synonyms,\n",
    "    req_scrs_dict)"
   ]
  },
  {
   "cell_type": "code",
   "execution_count": null,
   "id": "d7fb8b06",
   "metadata": {},
   "outputs": [],
   "source": [
    "requirement_texts_scores = generate_requirement_text_combinations3(\n",
    "    terms_of_inclusion,\n",
    "    nonviable_terms_of_inclusion_exclusion, \n",
    "    lists_of_requirements_for_dataframe_columns, \n",
    "    synonyms)"
   ]
  },
  {
   "cell_type": "code",
   "execution_count": null,
   "id": "f810a698",
   "metadata": {},
   "outputs": [],
   "source": [
    "for i in range(10):\n",
    "    print(requirement_texts_scores[i])"
   ]
  },
  {
   "cell_type": "code",
   "execution_count": null,
   "id": "89e96543",
   "metadata": {},
   "outputs": [],
   "source": [
    "print(len(requirement_texts_scores))"
   ]
  },
  {
   "cell_type": "code",
   "execution_count": null,
   "id": "04f7276b",
   "metadata": {},
   "outputs": [],
   "source": [
    "for text in requirement_texts:\n",
    "    print(text)"
   ]
  },
  {
   "cell_type": "code",
   "execution_count": null,
   "id": "24d2381e",
   "metadata": {
    "scrolled": true
   },
   "outputs": [],
   "source": [
    "requirements_dataframe = generate_synthetic_requirements_dataset(requirement_texts2, \n",
    "                                                                 inclusion_scores, \n",
    "                                                                 req_scrs_dict,\n",
    "                                                                 requirements_dictionary)"
   ]
  },
  {
   "cell_type": "code",
   "execution_count": null,
   "id": "cbddfbec",
   "metadata": {},
   "outputs": [],
   "source": [
    "requirements_dataframe2 = generate_synthetic_requirements_dataset2(requirement_texts_scores, \n",
    "                                                                   lists_of_requirements_for_dataframe_columns)"
   ]
  },
  {
   "cell_type": "code",
   "execution_count": null,
   "id": "47dcfdfb",
   "metadata": {},
   "outputs": [],
   "source": [
    "requirements_dataframe2.describe()"
   ]
  },
  {
   "cell_type": "code",
   "execution_count": null,
   "id": "1555fd8a",
   "metadata": {},
   "outputs": [],
   "source": [
    "requirements_dataframe2.head()"
   ]
  },
  {
   "cell_type": "code",
   "execution_count": null,
   "id": "9b5088b9",
   "metadata": {},
   "outputs": [],
   "source": [
    "requirements_dataframe2.tail()"
   ]
  },
  {
   "cell_type": "code",
   "execution_count": null,
   "id": "b7920612",
   "metadata": {},
   "outputs": [],
   "source": [
    "data_file_path = '../../Data/'"
   ]
  },
  {
   "cell_type": "code",
   "execution_count": null,
   "id": "2ec694aa",
   "metadata": {},
   "outputs": [],
   "source": [
    "requirements_dataframe2.to_csv(os.path.join(data_file_path, 'synthetic_requirements_data.csv'))"
   ]
  }
 ],
 "metadata": {
  "kernelspec": {
   "display_name": "Python 3 (ipykernel)",
   "language": "python",
   "name": "python3"
  },
  "language_info": {
   "codemirror_mode": {
    "name": "ipython",
    "version": 3
   },
   "file_extension": ".py",
   "mimetype": "text/x-python",
   "name": "python",
   "nbconvert_exporter": "python",
   "pygments_lexer": "ipython3",
   "version": "3.10.4"
  }
 },
 "nbformat": 4,
 "nbformat_minor": 5
}
